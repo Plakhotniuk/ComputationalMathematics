{
 "cells": [
  {
   "cell_type": "code",
   "execution_count": 1,
   "id": "0479a975",
   "metadata": {},
   "outputs": [
    {
     "name": "stdout",
     "output_type": "stream",
     "text": [
      "-24.942745281649117\n"
     ]
    }
   ],
   "source": [
    "#КР\n",
    "x = [4.799, 3.5, 2.201]\n",
    "y = [-1.76, -13.681, -50.639]\n",
    "def get_dif(x, f):\n",
    "    if len(f) > 2:\n",
    "        f_left = f.copy()[1:]\n",
    "        x_left = x.copy()[1:]\n",
    "        f_right = f.copy()[:-1]\n",
    "        x_right = x.copy()[:-1]\n",
    "        return (get_dif(x_left, f_left) - get_dif(x_right, f_right)) / (x[-1] - x[0])\n",
    "    elif len(f) == 2:\n",
    "        return (f[1] - f[0]) / (x[1] - x[0])\n",
    "        \n",
    "        \n",
    "def get_val(x_list, f_list, x):\n",
    "    res = f_list[0]\n",
    "    \n",
    "    for i in range(1, len(f_list)):\n",
    "        buf = 1\n",
    "        x_temp = []\n",
    "        f_temp = []\n",
    "        for j in range(i+1):\n",
    "            x_temp.append(x_list[j])\n",
    "            f_temp.append(f_list[j])\n",
    "            if j < i:\n",
    "                buf *= (x - x_list[j])\n",
    "        res += get_dif(x_temp, f_temp) * buf\n",
    "    return res    \n",
    "\n",
    "print(get_val(x, y, 3))"
   ]
  },
  {
   "cell_type": "code",
   "execution_count": null,
   "id": "6c4a35bb",
   "metadata": {},
   "outputs": [],
   "source": []
  }
 ],
 "metadata": {
  "kernelspec": {
   "display_name": "Python 3",
   "language": "python",
   "name": "python3"
  },
  "language_info": {
   "codemirror_mode": {
    "name": "ipython",
    "version": 3
   },
   "file_extension": ".py",
   "mimetype": "text/x-python",
   "name": "python",
   "nbconvert_exporter": "python",
   "pygments_lexer": "ipython3",
   "version": "3.8.5"
  }
 },
 "nbformat": 4,
 "nbformat_minor": 5
}
