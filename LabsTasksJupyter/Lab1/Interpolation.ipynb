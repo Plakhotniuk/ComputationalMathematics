{
 "cells": [
  {
   "cell_type": "code",
   "execution_count": 17,
   "id": "b0ef6e4f",
   "metadata": {},
   "outputs": [
    {
     "name": "stdout",
     "output_type": "stream",
     "text": [
      "0.32601861572265634\n"
     ]
    }
   ],
   "source": [
    "x = [0, 0.1, 0.2, 0.3, 0.4, 0.5, 0.6, 0.7, 0.8, 0.9, 1.0]\n",
    "y = [0.0, 0.033, 0.067, 0.1, 0.134, 0.168, 0.203, 0.238, 0.273, 0.309, 0.346]\n",
    "def get_dif(x, f):\n",
    "    if len(f) > 2:\n",
    "        f_left = f.copy()[1:]\n",
    "        x_left = x.copy()[1:]\n",
    "        f_right = f.copy()[:-1]\n",
    "        x_right = x.copy()[:-1]\n",
    "        return (get_dif(x_left, f_left) - get_dif(x_right, f_right)) / (x[-1] - x[0])\n",
    "    elif len(f) == 2:\n",
    "        return (f[1] - f[0]) / (x[1] - x[0])\n",
    "        \n",
    "        \n",
    "def get_val(x_list, f_list, x):\n",
    "    res = f_list[0]\n",
    "    \n",
    "    for i in range(1, len(f_list)):\n",
    "        buf = 1\n",
    "        x_temp = []\n",
    "        f_temp = []\n",
    "        for j in range(i+1):\n",
    "            x_temp.append(x_list[j])\n",
    "            f_temp.append(f_list[j])\n",
    "            if j < i:\n",
    "                buf *= (x - x_list[j])\n",
    "        res += get_dif(x_temp, f_temp) * buf\n",
    "    return res    \n",
    "\n",
    "print(get_val(x, y, 0.95))"
   ]
  },
  {
   "cell_type": "code",
   "execution_count": 3,
   "id": "20d08d0d",
   "metadata": {},
   "outputs": [
    {
     "name": "stdout",
     "output_type": "stream",
     "text": [
      "-1.0011196136474592e-13\n"
     ]
    }
   ],
   "source": [
    "#errors\n",
    "import math\n",
    "x = [0, 0.1, 0.2, 0.3, 0.4, 0.5, 0.6, 0.7, 0.8, 0.9, 1.0]\n",
    "def error(x, x_0):\n",
    "    temp = 15 / math.factorial(len(x)+1)\n",
    "    for i in range(len(x)):\n",
    "        temp *= (x_0 - x[i])\n",
    "    \n",
    "    return temp\n",
    "\n",
    "print(error(x, 0.95))\n",
    "\n"
   ]
  },
  {
   "cell_type": "code",
   "execution_count": 4,
   "id": "2623a295",
   "metadata": {},
   "outputs": [
    {
     "name": "stdout",
     "output_type": "stream",
     "text": [
      "2.604166666666667e-08\n"
     ]
    }
   ],
   "source": [
    "print(0.1 / (24 * 2**4) * 0.1**4)"
   ]
  },
  {
   "cell_type": "code",
   "execution_count": 1,
   "id": "a45c3bc7",
   "metadata": {},
   "outputs": [
    {
     "name": "stdout",
     "output_type": "stream",
     "text": [
      "-24.942745281649117\n"
     ]
    }
   ],
   "source": [
    "#КР\n",
    "x = [4.799, 3.5, 2.201]\n",
    "y = [-1.76, -13.681, -50.639]\n",
    "def get_dif(x, f):\n",
    "    if len(f) > 2:\n",
    "        f_left = f.copy()[1:]\n",
    "        x_left = x.copy()[1:]\n",
    "        f_right = f.copy()[:-1]\n",
    "        x_right = x.copy()[:-1]\n",
    "        return (get_dif(x_left, f_left) - get_dif(x_right, f_right)) / (x[-1] - x[0])\n",
    "    elif len(f) == 2:\n",
    "        return (f[1] - f[0]) / (x[1] - x[0])\n",
    "        \n",
    "        \n",
    "def get_val(x_list, f_list, x):\n",
    "    res = f_list[0]\n",
    "    \n",
    "    for i in range(1, len(f_list)):\n",
    "        buf = 1\n",
    "        x_temp = []\n",
    "        f_temp = []\n",
    "        for j in range(i+1):\n",
    "            x_temp.append(x_list[j])\n",
    "            f_temp.append(f_list[j])\n",
    "            if j < i:\n",
    "                buf *= (x - x_list[j])\n",
    "        res += get_dif(x_temp, f_temp) * buf\n",
    "    return res    \n",
    "\n",
    "print(get_val(x, y, 3))"
   ]
  },
  {
   "cell_type": "code",
   "execution_count": null,
   "id": "44a6ee86",
   "metadata": {},
   "outputs": [],
   "source": []
  }
 ],
 "metadata": {
  "kernelspec": {
   "display_name": "Python 3",
   "language": "python",
   "name": "python3"
  },
  "language_info": {
   "codemirror_mode": {
    "name": "ipython",
    "version": 3
   },
   "file_extension": ".py",
   "mimetype": "text/x-python",
   "name": "python",
   "nbconvert_exporter": "python",
   "pygments_lexer": "ipython3",
   "version": "3.8.5"
  }
 },
 "nbformat": 4,
 "nbformat_minor": 5
}
