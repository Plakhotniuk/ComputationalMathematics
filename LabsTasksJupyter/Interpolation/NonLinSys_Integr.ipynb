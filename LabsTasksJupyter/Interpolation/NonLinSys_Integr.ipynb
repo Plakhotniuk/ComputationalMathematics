{
 "cells": [
  {
   "cell_type": "code",
   "execution_count": 19,
   "id": "26f68743",
   "metadata": {},
   "outputs": [
    {
     "name": "stdout",
     "output_type": "stream",
     "text": [
      "Корень и кол-во итераций: (0.6498889466656964, 0.7600291816777509, 5)\n",
      "Корень и кол-во итераций: (-0.6498889466656964, -0.7600291816777509, 5)\n",
      "Wolfram: (0.649889, 0.760029) (-0.649889, -0.760029)\n"
     ]
    }
   ],
   "source": [
    "#Задача 1. Нелинейная система. Решение методом Ньютона.\n",
    "import numpy as np\n",
    "\n",
    "\n",
    "def next_iter(x, y):\n",
    "    X = x - 1 / (-2*x - 2*y/np.cos(x)**2) * (1 - x**2 - y**2 + 2*y**2 - 2*y*np.tan(x))\n",
    "    Y = y - 1 / (-2*x - 2*y/np.cos(x)**2) * ((1/np.cos(x)**2)*(1 - x**2 - y**2) + 2*x*(np.tan(x) - y))\n",
    "    return X, Y\n",
    "\n",
    "def nonlin_solve(x_list, y_list):\n",
    "    e = 10**(-6)\n",
    "    x, y = next_iter(x_list[0], y_list[0])\n",
    "    x_list.append(x)\n",
    "    y_list.append(y)\n",
    "    i = 1\n",
    "    while np.sqrt((x_list[i-1] - x_list[i])**2 + (y_list[i-1] - y_list[i])**2) >= e:\n",
    "        x, y = next_iter(x_list[i], y_list[i])\n",
    "        x_list.append(x)\n",
    "        y_list.append(y)\n",
    "        i+=1\n",
    "    \n",
    "    return x_list[-1], y_list[-1], i\n",
    "\n",
    "print(\"Корень и кол-во итераций:\", nonlin_solve([1], [1]))\n",
    "print(\"Корень и кол-во итераций:\", nonlin_solve([-1], [-1]))\n",
    "print('Wolfram:', (0.649889, 0.760029), (-0.649889, -0.760029))"
   ]
  },
  {
   "cell_type": "code",
   "execution_count": 34,
   "id": "2f19f136",
   "metadata": {},
   "outputs": [
    {
     "name": "stdout",
     "output_type": "stream",
     "text": [
      "0.010005921196031144 100\n"
     ]
    }
   ],
   "source": [
    "#Задача 2. Вычисление интеграла быстро осциллирующей функции.\n",
    "\n",
    "def calc(a, b, K):\n",
    "    h = (b - a)/K\n",
    "    p1 = 98*h/2\n",
    "    p2 = 102*h/2\n",
    "    i = 0\n",
    "    I = 0\n",
    "    for i in range(K):\n",
    "        I += 1/2 * h * np.exp(-(h*i + h/2)**2) * ( np.sin(p1)/p1 * (np.sin(98*(h*i + h/2)) + np.sin(p2)/p2*np.sin(102*(h*i + h/2)) ))\n",
    "    \n",
    "    return I\n",
    "\n",
    "\n",
    "print(calc(0, 3, 10000), 100)"
   ]
  },
  {
   "cell_type": "code",
   "execution_count": null,
   "id": "defdf1a0",
   "metadata": {},
   "outputs": [],
   "source": []
  }
 ],
 "metadata": {
  "kernelspec": {
   "display_name": "Python 3",
   "language": "python",
   "name": "python3"
  },
  "language_info": {
   "codemirror_mode": {
    "name": "ipython",
    "version": 3
   },
   "file_extension": ".py",
   "mimetype": "text/x-python",
   "name": "python",
   "nbconvert_exporter": "python",
   "pygments_lexer": "ipython3",
   "version": "3.8.5"
  }
 },
 "nbformat": 4,
 "nbformat_minor": 5
}
